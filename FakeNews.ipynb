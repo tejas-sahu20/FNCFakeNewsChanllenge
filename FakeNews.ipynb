{
 "cells": [
  {
   "cell_type": "code",
   "execution_count": 55,
   "id": "d2b4e68a",
   "metadata": {},
   "outputs": [],
   "source": [
    "\n",
    "import tensorflow as tf\n",
    "import matplotlib as plt\n",
    "import re\n",
    "import shutil\n",
    "import string\n",
    "from tensorflow.keras import layers\n",
    "from tensorflow.keras import losses"
   ]
  },
  {
   "cell_type": "code",
   "execution_count": 56,
   "id": "22104980",
   "metadata": {},
   "outputs": [],
   "source": [
    "import os"
   ]
  },
  {
   "cell_type": "code",
   "execution_count": 57,
   "id": "73e5ef8e",
   "metadata": {},
   "outputs": [],
   "source": [
    "import pandas as pd\n",
    "import numpy as np"
   ]
  },
  {
   "cell_type": "code",
   "execution_count": 58,
   "id": "842de74a",
   "metadata": {},
   "outputs": [],
   "source": [
    "def load_data_fn(directory, body_file_name):\n",
    "    data = []\n",
    "    path = os.path.join(directory, body_file_name)\n",
    "    data = pd.read_csv(path)\n",
    "    return data"
   ]
  },
  {
   "cell_type": "code",
   "execution_count": null,
   "id": "d665cb27",
   "metadata": {},
   "outputs": [],
   "source": []
  },
  {
   "cell_type": "code",
   "execution_count": 59,
   "id": "4888211f",
   "metadata": {},
   "outputs": [],
   "source": [
    "main_body=load_data_fn('C:\\\\Users\\\\tejas\\\\Documents\\\\SentimentAnalysis\\\\fnc_1_master','train_bodies.csv')"
   ]
  },
  {
   "cell_type": "code",
   "execution_count": 60,
   "id": "66253379",
   "metadata": {
    "scrolled": true
   },
   "outputs": [
    {
     "data": {
      "text/html": [
       "<div>\n",
       "<style scoped>\n",
       "    .dataframe tbody tr th:only-of-type {\n",
       "        vertical-align: middle;\n",
       "    }\n",
       "\n",
       "    .dataframe tbody tr th {\n",
       "        vertical-align: top;\n",
       "    }\n",
       "\n",
       "    .dataframe thead th {\n",
       "        text-align: right;\n",
       "    }\n",
       "</style>\n",
       "<table border=\"1\" class=\"dataframe\">\n",
       "  <thead>\n",
       "    <tr style=\"text-align: right;\">\n",
       "      <th></th>\n",
       "      <th>Body ID</th>\n",
       "      <th>articleBody</th>\n",
       "    </tr>\n",
       "  </thead>\n",
       "  <tbody>\n",
       "    <tr>\n",
       "      <th>0</th>\n",
       "      <td>0</td>\n",
       "      <td>A small meteorite crashed into a wooded area i...</td>\n",
       "    </tr>\n",
       "    <tr>\n",
       "      <th>1</th>\n",
       "      <td>4</td>\n",
       "      <td>Last week we hinted at what was to come as Ebo...</td>\n",
       "    </tr>\n",
       "    <tr>\n",
       "      <th>2</th>\n",
       "      <td>5</td>\n",
       "      <td>(NEWSER) – Wonder how long a Quarter Pounder w...</td>\n",
       "    </tr>\n",
       "    <tr>\n",
       "      <th>3</th>\n",
       "      <td>6</td>\n",
       "      <td>Posting photos of a gun-toting child online, I...</td>\n",
       "    </tr>\n",
       "    <tr>\n",
       "      <th>4</th>\n",
       "      <td>7</td>\n",
       "      <td>At least 25 suspected Boko Haram insurgents we...</td>\n",
       "    </tr>\n",
       "    <tr>\n",
       "      <th>...</th>\n",
       "      <td>...</td>\n",
       "      <td>...</td>\n",
       "    </tr>\n",
       "    <tr>\n",
       "      <th>1678</th>\n",
       "      <td>2528</td>\n",
       "      <td>Intelligence agencies hunting for identity of ...</td>\n",
       "    </tr>\n",
       "    <tr>\n",
       "      <th>1679</th>\n",
       "      <td>2529</td>\n",
       "      <td>While Daleks \"know no fear\" and \"must not fear...</td>\n",
       "    </tr>\n",
       "    <tr>\n",
       "      <th>1680</th>\n",
       "      <td>2530</td>\n",
       "      <td>More than 200 schoolgirls were kidnapped in Ap...</td>\n",
       "    </tr>\n",
       "    <tr>\n",
       "      <th>1681</th>\n",
       "      <td>2531</td>\n",
       "      <td>A Guantanamo Bay prisoner released last year a...</td>\n",
       "    </tr>\n",
       "    <tr>\n",
       "      <th>1682</th>\n",
       "      <td>2532</td>\n",
       "      <td>ANN ARBOR, Mich. – A pizza delivery man in Mic...</td>\n",
       "    </tr>\n",
       "  </tbody>\n",
       "</table>\n",
       "<p>1683 rows × 2 columns</p>\n",
       "</div>"
      ],
      "text/plain": [
       "      Body ID                                        articleBody\n",
       "0           0  A small meteorite crashed into a wooded area i...\n",
       "1           4  Last week we hinted at what was to come as Ebo...\n",
       "2           5  (NEWSER) – Wonder how long a Quarter Pounder w...\n",
       "3           6  Posting photos of a gun-toting child online, I...\n",
       "4           7  At least 25 suspected Boko Haram insurgents we...\n",
       "...       ...                                                ...\n",
       "1678     2528  Intelligence agencies hunting for identity of ...\n",
       "1679     2529  While Daleks \"know no fear\" and \"must not fear...\n",
       "1680     2530  More than 200 schoolgirls were kidnapped in Ap...\n",
       "1681     2531  A Guantanamo Bay prisoner released last year a...\n",
       "1682     2532  ANN ARBOR, Mich. – A pizza delivery man in Mic...\n",
       "\n",
       "[1683 rows x 2 columns]"
      ]
     },
     "execution_count": 60,
     "metadata": {},
     "output_type": "execute_result"
    }
   ],
   "source": [
    "main_body"
   ]
  },
  {
   "cell_type": "code",
   "execution_count": 61,
   "id": "c7b5d3b7",
   "metadata": {},
   "outputs": [],
   "source": [
    "main_body_labels=load_data_fn('C:\\\\Users\\\\tejas\\\\Documents\\\\SentimentAnalysis\\\\fnc_1_master','train_stances.csv')"
   ]
  },
  {
   "cell_type": "code",
   "execution_count": 62,
   "id": "27d3aad3",
   "metadata": {},
   "outputs": [
    {
     "data": {
      "text/html": [
       "<div>\n",
       "<style scoped>\n",
       "    .dataframe tbody tr th:only-of-type {\n",
       "        vertical-align: middle;\n",
       "    }\n",
       "\n",
       "    .dataframe tbody tr th {\n",
       "        vertical-align: top;\n",
       "    }\n",
       "\n",
       "    .dataframe thead th {\n",
       "        text-align: right;\n",
       "    }\n",
       "</style>\n",
       "<table border=\"1\" class=\"dataframe\">\n",
       "  <thead>\n",
       "    <tr style=\"text-align: right;\">\n",
       "      <th></th>\n",
       "      <th>Headline</th>\n",
       "      <th>Body ID</th>\n",
       "      <th>Stance</th>\n",
       "    </tr>\n",
       "  </thead>\n",
       "  <tbody>\n",
       "    <tr>\n",
       "      <th>0</th>\n",
       "      <td>Police find mass graves with at least '15 bodi...</td>\n",
       "      <td>712</td>\n",
       "      <td>unrelated</td>\n",
       "    </tr>\n",
       "    <tr>\n",
       "      <th>1</th>\n",
       "      <td>Hundreds of Palestinians flee floods in Gaza a...</td>\n",
       "      <td>158</td>\n",
       "      <td>agree</td>\n",
       "    </tr>\n",
       "    <tr>\n",
       "      <th>2</th>\n",
       "      <td>Christian Bale passes on role of Steve Jobs, a...</td>\n",
       "      <td>137</td>\n",
       "      <td>unrelated</td>\n",
       "    </tr>\n",
       "    <tr>\n",
       "      <th>3</th>\n",
       "      <td>HBO and Apple in Talks for $15/Month Apple TV ...</td>\n",
       "      <td>1034</td>\n",
       "      <td>unrelated</td>\n",
       "    </tr>\n",
       "    <tr>\n",
       "      <th>4</th>\n",
       "      <td>Spider burrowed through tourist's stomach and ...</td>\n",
       "      <td>1923</td>\n",
       "      <td>disagree</td>\n",
       "    </tr>\n",
       "    <tr>\n",
       "      <th>...</th>\n",
       "      <td>...</td>\n",
       "      <td>...</td>\n",
       "      <td>...</td>\n",
       "    </tr>\n",
       "    <tr>\n",
       "      <th>49967</th>\n",
       "      <td>Urgent: The Leader of ISIL 'Abu Bakr al-Baghda...</td>\n",
       "      <td>1681</td>\n",
       "      <td>unrelated</td>\n",
       "    </tr>\n",
       "    <tr>\n",
       "      <th>49968</th>\n",
       "      <td>Brian Williams slams social media for speculat...</td>\n",
       "      <td>2419</td>\n",
       "      <td>unrelated</td>\n",
       "    </tr>\n",
       "    <tr>\n",
       "      <th>49969</th>\n",
       "      <td>Mexico Says Missing Students Not Found In Firs...</td>\n",
       "      <td>1156</td>\n",
       "      <td>agree</td>\n",
       "    </tr>\n",
       "    <tr>\n",
       "      <th>49970</th>\n",
       "      <td>US Lawmaker: Ten ISIS Fighters Have Been Appre...</td>\n",
       "      <td>1012</td>\n",
       "      <td>discuss</td>\n",
       "    </tr>\n",
       "    <tr>\n",
       "      <th>49971</th>\n",
       "      <td>Shots Heard In Alleged Brown Shooting Recordin...</td>\n",
       "      <td>2044</td>\n",
       "      <td>unrelated</td>\n",
       "    </tr>\n",
       "  </tbody>\n",
       "</table>\n",
       "<p>49972 rows × 3 columns</p>\n",
       "</div>"
      ],
      "text/plain": [
       "                                                Headline  Body ID     Stance\n",
       "0      Police find mass graves with at least '15 bodi...      712  unrelated\n",
       "1      Hundreds of Palestinians flee floods in Gaza a...      158      agree\n",
       "2      Christian Bale passes on role of Steve Jobs, a...      137  unrelated\n",
       "3      HBO and Apple in Talks for $15/Month Apple TV ...     1034  unrelated\n",
       "4      Spider burrowed through tourist's stomach and ...     1923   disagree\n",
       "...                                                  ...      ...        ...\n",
       "49967  Urgent: The Leader of ISIL 'Abu Bakr al-Baghda...     1681  unrelated\n",
       "49968  Brian Williams slams social media for speculat...     2419  unrelated\n",
       "49969  Mexico Says Missing Students Not Found In Firs...     1156      agree\n",
       "49970  US Lawmaker: Ten ISIS Fighters Have Been Appre...     1012    discuss\n",
       "49971  Shots Heard In Alleged Brown Shooting Recordin...     2044  unrelated\n",
       "\n",
       "[49972 rows x 3 columns]"
      ]
     },
     "execution_count": 62,
     "metadata": {},
     "output_type": "execute_result"
    }
   ],
   "source": [
    "main_body_labels"
   ]
  },
  {
   "cell_type": "code",
   "execution_count": 63,
   "id": "6f553bc6",
   "metadata": {},
   "outputs": [],
   "source": [
    "result=pd.merge(main_body,main_body_labels,on=\"Body ID\",how='right')"
   ]
  },
  {
   "cell_type": "code",
   "execution_count": 64,
   "id": "d48960f0",
   "metadata": {},
   "outputs": [
    {
     "data": {
      "text/html": [
       "<div>\n",
       "<style scoped>\n",
       "    .dataframe tbody tr th:only-of-type {\n",
       "        vertical-align: middle;\n",
       "    }\n",
       "\n",
       "    .dataframe tbody tr th {\n",
       "        vertical-align: top;\n",
       "    }\n",
       "\n",
       "    .dataframe thead th {\n",
       "        text-align: right;\n",
       "    }\n",
       "</style>\n",
       "<table border=\"1\" class=\"dataframe\">\n",
       "  <thead>\n",
       "    <tr style=\"text-align: right;\">\n",
       "      <th></th>\n",
       "      <th>Body ID</th>\n",
       "      <th>articleBody</th>\n",
       "      <th>Headline</th>\n",
       "      <th>Stance</th>\n",
       "    </tr>\n",
       "  </thead>\n",
       "  <tbody>\n",
       "    <tr>\n",
       "      <th>0</th>\n",
       "      <td>712</td>\n",
       "      <td>Danny Boyle is directing the untitled film\\n\\n...</td>\n",
       "      <td>Police find mass graves with at least '15 bodi...</td>\n",
       "      <td>unrelated</td>\n",
       "    </tr>\n",
       "    <tr>\n",
       "      <th>1</th>\n",
       "      <td>158</td>\n",
       "      <td>Hundreds of Palestinians were evacuated from t...</td>\n",
       "      <td>Hundreds of Palestinians flee floods in Gaza a...</td>\n",
       "      <td>agree</td>\n",
       "    </tr>\n",
       "    <tr>\n",
       "      <th>2</th>\n",
       "      <td>137</td>\n",
       "      <td>30-year-old Moscow resident was hospitalized w...</td>\n",
       "      <td>Christian Bale passes on role of Steve Jobs, a...</td>\n",
       "      <td>unrelated</td>\n",
       "    </tr>\n",
       "    <tr>\n",
       "      <th>3</th>\n",
       "      <td>1034</td>\n",
       "      <td>(Reuters) - A Canadian soldier was shot at the...</td>\n",
       "      <td>HBO and Apple in Talks for $15/Month Apple TV ...</td>\n",
       "      <td>unrelated</td>\n",
       "    </tr>\n",
       "    <tr>\n",
       "      <th>4</th>\n",
       "      <td>1923</td>\n",
       "      <td>Fear not arachnophobes, the story of Bunbury's...</td>\n",
       "      <td>Spider burrowed through tourist's stomach and ...</td>\n",
       "      <td>disagree</td>\n",
       "    </tr>\n",
       "    <tr>\n",
       "      <th>...</th>\n",
       "      <td>...</td>\n",
       "      <td>...</td>\n",
       "      <td>...</td>\n",
       "      <td>...</td>\n",
       "    </tr>\n",
       "    <tr>\n",
       "      <th>49967</th>\n",
       "      <td>1681</td>\n",
       "      <td>(CNN) -- Boko Haram laughed off Nigeria's anno...</td>\n",
       "      <td>Urgent: The Leader of ISIL 'Abu Bakr al-Baghda...</td>\n",
       "      <td>unrelated</td>\n",
       "    </tr>\n",
       "    <tr>\n",
       "      <th>49968</th>\n",
       "      <td>2419</td>\n",
       "      <td>Along with unveiling the Apple Watch earlier t...</td>\n",
       "      <td>Brian Williams slams social media for speculat...</td>\n",
       "      <td>unrelated</td>\n",
       "    </tr>\n",
       "    <tr>\n",
       "      <th>49969</th>\n",
       "      <td>1156</td>\n",
       "      <td>The bodies found in a mass grave were confirme...</td>\n",
       "      <td>Mexico Says Missing Students Not Found In Firs...</td>\n",
       "      <td>agree</td>\n",
       "    </tr>\n",
       "    <tr>\n",
       "      <th>49970</th>\n",
       "      <td>1012</td>\n",
       "      <td>Rep. Duncan Hunter (R-CA) told Greta Van Suste...</td>\n",
       "      <td>US Lawmaker: Ten ISIS Fighters Have Been Appre...</td>\n",
       "      <td>discuss</td>\n",
       "    </tr>\n",
       "    <tr>\n",
       "      <th>49971</th>\n",
       "      <td>2044</td>\n",
       "      <td>A married TV actor who met a young woman and k...</td>\n",
       "      <td>Shots Heard In Alleged Brown Shooting Recordin...</td>\n",
       "      <td>unrelated</td>\n",
       "    </tr>\n",
       "  </tbody>\n",
       "</table>\n",
       "<p>49972 rows × 4 columns</p>\n",
       "</div>"
      ],
      "text/plain": [
       "       Body ID                                        articleBody  \\\n",
       "0          712  Danny Boyle is directing the untitled film\\n\\n...   \n",
       "1          158  Hundreds of Palestinians were evacuated from t...   \n",
       "2          137  30-year-old Moscow resident was hospitalized w...   \n",
       "3         1034  (Reuters) - A Canadian soldier was shot at the...   \n",
       "4         1923  Fear not arachnophobes, the story of Bunbury's...   \n",
       "...        ...                                                ...   \n",
       "49967     1681  (CNN) -- Boko Haram laughed off Nigeria's anno...   \n",
       "49968     2419  Along with unveiling the Apple Watch earlier t...   \n",
       "49969     1156  The bodies found in a mass grave were confirme...   \n",
       "49970     1012  Rep. Duncan Hunter (R-CA) told Greta Van Suste...   \n",
       "49971     2044  A married TV actor who met a young woman and k...   \n",
       "\n",
       "                                                Headline     Stance  \n",
       "0      Police find mass graves with at least '15 bodi...  unrelated  \n",
       "1      Hundreds of Palestinians flee floods in Gaza a...      agree  \n",
       "2      Christian Bale passes on role of Steve Jobs, a...  unrelated  \n",
       "3      HBO and Apple in Talks for $15/Month Apple TV ...  unrelated  \n",
       "4      Spider burrowed through tourist's stomach and ...   disagree  \n",
       "...                                                  ...        ...  \n",
       "49967  Urgent: The Leader of ISIL 'Abu Bakr al-Baghda...  unrelated  \n",
       "49968  Brian Williams slams social media for speculat...  unrelated  \n",
       "49969  Mexico Says Missing Students Not Found In Firs...      agree  \n",
       "49970  US Lawmaker: Ten ISIS Fighters Have Been Appre...    discuss  \n",
       "49971  Shots Heard In Alleged Brown Shooting Recordin...  unrelated  \n",
       "\n",
       "[49972 rows x 4 columns]"
      ]
     },
     "execution_count": 64,
     "metadata": {},
     "output_type": "execute_result"
    }
   ],
   "source": [
    "result"
   ]
  },
  {
   "cell_type": "code",
   "execution_count": 65,
   "id": "e700872c",
   "metadata": {},
   "outputs": [],
   "source": [
    "sorted_df = result.sort_values(by='Body ID', ascending=True)"
   ]
  },
  {
   "cell_type": "code",
   "execution_count": 66,
   "id": "f9c98fb3",
   "metadata": {},
   "outputs": [
    {
     "data": {
      "text/html": [
       "<div>\n",
       "<style scoped>\n",
       "    .dataframe tbody tr th:only-of-type {\n",
       "        vertical-align: middle;\n",
       "    }\n",
       "\n",
       "    .dataframe tbody tr th {\n",
       "        vertical-align: top;\n",
       "    }\n",
       "\n",
       "    .dataframe thead th {\n",
       "        text-align: right;\n",
       "    }\n",
       "</style>\n",
       "<table border=\"1\" class=\"dataframe\">\n",
       "  <thead>\n",
       "    <tr style=\"text-align: right;\">\n",
       "      <th></th>\n",
       "      <th>Body ID</th>\n",
       "      <th>articleBody</th>\n",
       "      <th>Headline</th>\n",
       "      <th>Stance</th>\n",
       "    </tr>\n",
       "  </thead>\n",
       "  <tbody>\n",
       "    <tr>\n",
       "      <th>27879</th>\n",
       "      <td>0</td>\n",
       "      <td>A small meteorite crashed into a wooded area i...</td>\n",
       "      <td>Soldier shot near Canadian parliament building</td>\n",
       "      <td>unrelated</td>\n",
       "    </tr>\n",
       "    <tr>\n",
       "      <th>21704</th>\n",
       "      <td>0</td>\n",
       "      <td>A small meteorite crashed into a wooded area i...</td>\n",
       "      <td>Caught a catfish record in Po: 127 kg and 2.67...</td>\n",
       "      <td>unrelated</td>\n",
       "    </tr>\n",
       "    <tr>\n",
       "      <th>7110</th>\n",
       "      <td>0</td>\n",
       "      <td>A small meteorite crashed into a wooded area i...</td>\n",
       "      <td>Enormous 20-stone catfish caught with fishing ...</td>\n",
       "      <td>unrelated</td>\n",
       "    </tr>\n",
       "    <tr>\n",
       "      <th>12573</th>\n",
       "      <td>0</td>\n",
       "      <td>A small meteorite crashed into a wooded area i...</td>\n",
       "      <td>Soldier shot at war memorial in Canada</td>\n",
       "      <td>unrelated</td>\n",
       "    </tr>\n",
       "    <tr>\n",
       "      <th>16307</th>\n",
       "      <td>0</td>\n",
       "      <td>A small meteorite crashed into a wooded area i...</td>\n",
       "      <td>A soldier has been shot at Canada’s war memori...</td>\n",
       "      <td>unrelated</td>\n",
       "    </tr>\n",
       "    <tr>\n",
       "      <th>...</th>\n",
       "      <td>...</td>\n",
       "      <td>...</td>\n",
       "      <td>...</td>\n",
       "      <td>...</td>\n",
       "    </tr>\n",
       "    <tr>\n",
       "      <th>46450</th>\n",
       "      <td>2532</td>\n",
       "      <td>ANN ARBOR, Mich. – A pizza delivery man in Mic...</td>\n",
       "      <td>Ann Arbor pizza delivery driver surprised with...</td>\n",
       "      <td>agree</td>\n",
       "    </tr>\n",
       "    <tr>\n",
       "      <th>41950</th>\n",
       "      <td>2532</td>\n",
       "      <td>ANN ARBOR, Mich. – A pizza delivery man in Mic...</td>\n",
       "      <td>Luckiest Pizza Delivery Guy Ever Gets $2,000 Tip</td>\n",
       "      <td>agree</td>\n",
       "    </tr>\n",
       "    <tr>\n",
       "      <th>34899</th>\n",
       "      <td>2532</td>\n",
       "      <td>ANN ARBOR, Mich. – A pizza delivery man in Mic...</td>\n",
       "      <td>Pizza delivery man gets $2,000 tip</td>\n",
       "      <td>agree</td>\n",
       "    </tr>\n",
       "    <tr>\n",
       "      <th>15822</th>\n",
       "      <td>2532</td>\n",
       "      <td>ANN ARBOR, Mich. – A pizza delivery man in Mic...</td>\n",
       "      <td>Pizza delivery driver surprised with $2,000 tip</td>\n",
       "      <td>agree</td>\n",
       "    </tr>\n",
       "    <tr>\n",
       "      <th>27064</th>\n",
       "      <td>2532</td>\n",
       "      <td>ANN ARBOR, Mich. – A pizza delivery man in Mic...</td>\n",
       "      <td>Pizza delivery man gets tipped more than $2,00...</td>\n",
       "      <td>agree</td>\n",
       "    </tr>\n",
       "  </tbody>\n",
       "</table>\n",
       "<p>49972 rows × 4 columns</p>\n",
       "</div>"
      ],
      "text/plain": [
       "       Body ID                                        articleBody  \\\n",
       "27879        0  A small meteorite crashed into a wooded area i...   \n",
       "21704        0  A small meteorite crashed into a wooded area i...   \n",
       "7110         0  A small meteorite crashed into a wooded area i...   \n",
       "12573        0  A small meteorite crashed into a wooded area i...   \n",
       "16307        0  A small meteorite crashed into a wooded area i...   \n",
       "...        ...                                                ...   \n",
       "46450     2532  ANN ARBOR, Mich. – A pizza delivery man in Mic...   \n",
       "41950     2532  ANN ARBOR, Mich. – A pizza delivery man in Mic...   \n",
       "34899     2532  ANN ARBOR, Mich. – A pizza delivery man in Mic...   \n",
       "15822     2532  ANN ARBOR, Mich. – A pizza delivery man in Mic...   \n",
       "27064     2532  ANN ARBOR, Mich. – A pizza delivery man in Mic...   \n",
       "\n",
       "                                                Headline     Stance  \n",
       "27879     Soldier shot near Canadian parliament building  unrelated  \n",
       "21704  Caught a catfish record in Po: 127 kg and 2.67...  unrelated  \n",
       "7110   Enormous 20-stone catfish caught with fishing ...  unrelated  \n",
       "12573             Soldier shot at war memorial in Canada  unrelated  \n",
       "16307  A soldier has been shot at Canada’s war memori...  unrelated  \n",
       "...                                                  ...        ...  \n",
       "46450  Ann Arbor pizza delivery driver surprised with...      agree  \n",
       "41950   Luckiest Pizza Delivery Guy Ever Gets $2,000 Tip      agree  \n",
       "34899                 Pizza delivery man gets $2,000 tip      agree  \n",
       "15822    Pizza delivery driver surprised with $2,000 tip      agree  \n",
       "27064  Pizza delivery man gets tipped more than $2,00...      agree  \n",
       "\n",
       "[49972 rows x 4 columns]"
      ]
     },
     "execution_count": 66,
     "metadata": {},
     "output_type": "execute_result"
    }
   ],
   "source": [
    "sorted_df"
   ]
  },
  {
   "cell_type": "code",
   "execution_count": 67,
   "id": "ba7a8003",
   "metadata": {},
   "outputs": [],
   "source": [
    "reindexed_df = sorted_df.reset_index(drop=True)"
   ]
  },
  {
   "cell_type": "code",
   "execution_count": 68,
   "id": "27379d49",
   "metadata": {},
   "outputs": [
    {
     "data": {
      "text/html": [
       "<div>\n",
       "<style scoped>\n",
       "    .dataframe tbody tr th:only-of-type {\n",
       "        vertical-align: middle;\n",
       "    }\n",
       "\n",
       "    .dataframe tbody tr th {\n",
       "        vertical-align: top;\n",
       "    }\n",
       "\n",
       "    .dataframe thead th {\n",
       "        text-align: right;\n",
       "    }\n",
       "</style>\n",
       "<table border=\"1\" class=\"dataframe\">\n",
       "  <thead>\n",
       "    <tr style=\"text-align: right;\">\n",
       "      <th></th>\n",
       "      <th>Body ID</th>\n",
       "      <th>articleBody</th>\n",
       "      <th>Headline</th>\n",
       "      <th>Stance</th>\n",
       "    </tr>\n",
       "  </thead>\n",
       "  <tbody>\n",
       "    <tr>\n",
       "      <th>0</th>\n",
       "      <td>0</td>\n",
       "      <td>A small meteorite crashed into a wooded area i...</td>\n",
       "      <td>Soldier shot near Canadian parliament building</td>\n",
       "      <td>unrelated</td>\n",
       "    </tr>\n",
       "    <tr>\n",
       "      <th>1</th>\n",
       "      <td>0</td>\n",
       "      <td>A small meteorite crashed into a wooded area i...</td>\n",
       "      <td>Caught a catfish record in Po: 127 kg and 2.67...</td>\n",
       "      <td>unrelated</td>\n",
       "    </tr>\n",
       "    <tr>\n",
       "      <th>2</th>\n",
       "      <td>0</td>\n",
       "      <td>A small meteorite crashed into a wooded area i...</td>\n",
       "      <td>Enormous 20-stone catfish caught with fishing ...</td>\n",
       "      <td>unrelated</td>\n",
       "    </tr>\n",
       "    <tr>\n",
       "      <th>3</th>\n",
       "      <td>0</td>\n",
       "      <td>A small meteorite crashed into a wooded area i...</td>\n",
       "      <td>Soldier shot at war memorial in Canada</td>\n",
       "      <td>unrelated</td>\n",
       "    </tr>\n",
       "    <tr>\n",
       "      <th>4</th>\n",
       "      <td>0</td>\n",
       "      <td>A small meteorite crashed into a wooded area i...</td>\n",
       "      <td>A soldier has been shot at Canada’s war memori...</td>\n",
       "      <td>unrelated</td>\n",
       "    </tr>\n",
       "    <tr>\n",
       "      <th>...</th>\n",
       "      <td>...</td>\n",
       "      <td>...</td>\n",
       "      <td>...</td>\n",
       "      <td>...</td>\n",
       "    </tr>\n",
       "    <tr>\n",
       "      <th>49967</th>\n",
       "      <td>2532</td>\n",
       "      <td>ANN ARBOR, Mich. – A pizza delivery man in Mic...</td>\n",
       "      <td>Ann Arbor pizza delivery driver surprised with...</td>\n",
       "      <td>agree</td>\n",
       "    </tr>\n",
       "    <tr>\n",
       "      <th>49968</th>\n",
       "      <td>2532</td>\n",
       "      <td>ANN ARBOR, Mich. – A pizza delivery man in Mic...</td>\n",
       "      <td>Luckiest Pizza Delivery Guy Ever Gets $2,000 Tip</td>\n",
       "      <td>agree</td>\n",
       "    </tr>\n",
       "    <tr>\n",
       "      <th>49969</th>\n",
       "      <td>2532</td>\n",
       "      <td>ANN ARBOR, Mich. – A pizza delivery man in Mic...</td>\n",
       "      <td>Pizza delivery man gets $2,000 tip</td>\n",
       "      <td>agree</td>\n",
       "    </tr>\n",
       "    <tr>\n",
       "      <th>49970</th>\n",
       "      <td>2532</td>\n",
       "      <td>ANN ARBOR, Mich. – A pizza delivery man in Mic...</td>\n",
       "      <td>Pizza delivery driver surprised with $2,000 tip</td>\n",
       "      <td>agree</td>\n",
       "    </tr>\n",
       "    <tr>\n",
       "      <th>49971</th>\n",
       "      <td>2532</td>\n",
       "      <td>ANN ARBOR, Mich. – A pizza delivery man in Mic...</td>\n",
       "      <td>Pizza delivery man gets tipped more than $2,00...</td>\n",
       "      <td>agree</td>\n",
       "    </tr>\n",
       "  </tbody>\n",
       "</table>\n",
       "<p>49972 rows × 4 columns</p>\n",
       "</div>"
      ],
      "text/plain": [
       "       Body ID                                        articleBody  \\\n",
       "0            0  A small meteorite crashed into a wooded area i...   \n",
       "1            0  A small meteorite crashed into a wooded area i...   \n",
       "2            0  A small meteorite crashed into a wooded area i...   \n",
       "3            0  A small meteorite crashed into a wooded area i...   \n",
       "4            0  A small meteorite crashed into a wooded area i...   \n",
       "...        ...                                                ...   \n",
       "49967     2532  ANN ARBOR, Mich. – A pizza delivery man in Mic...   \n",
       "49968     2532  ANN ARBOR, Mich. – A pizza delivery man in Mic...   \n",
       "49969     2532  ANN ARBOR, Mich. – A pizza delivery man in Mic...   \n",
       "49970     2532  ANN ARBOR, Mich. – A pizza delivery man in Mic...   \n",
       "49971     2532  ANN ARBOR, Mich. – A pizza delivery man in Mic...   \n",
       "\n",
       "                                                Headline     Stance  \n",
       "0         Soldier shot near Canadian parliament building  unrelated  \n",
       "1      Caught a catfish record in Po: 127 kg and 2.67...  unrelated  \n",
       "2      Enormous 20-stone catfish caught with fishing ...  unrelated  \n",
       "3                 Soldier shot at war memorial in Canada  unrelated  \n",
       "4      A soldier has been shot at Canada’s war memori...  unrelated  \n",
       "...                                                  ...        ...  \n",
       "49967  Ann Arbor pizza delivery driver surprised with...      agree  \n",
       "49968   Luckiest Pizza Delivery Guy Ever Gets $2,000 Tip      agree  \n",
       "49969                 Pizza delivery man gets $2,000 tip      agree  \n",
       "49970    Pizza delivery driver surprised with $2,000 tip      agree  \n",
       "49971  Pizza delivery man gets tipped more than $2,00...      agree  \n",
       "\n",
       "[49972 rows x 4 columns]"
      ]
     },
     "execution_count": 68,
     "metadata": {},
     "output_type": "execute_result"
    }
   ],
   "source": [
    "reindexed_df"
   ]
  },
  {
   "cell_type": "code",
   "execution_count": 69,
   "id": "6d4c2d67",
   "metadata": {},
   "outputs": [],
   "source": [
    "reindexed_df=reindexed_df.dropna()"
   ]
  },
  {
   "cell_type": "code",
   "execution_count": 70,
   "id": "a8c2a26e",
   "metadata": {},
   "outputs": [
    {
     "data": {
      "text/html": [
       "<div>\n",
       "<style scoped>\n",
       "    .dataframe tbody tr th:only-of-type {\n",
       "        vertical-align: middle;\n",
       "    }\n",
       "\n",
       "    .dataframe tbody tr th {\n",
       "        vertical-align: top;\n",
       "    }\n",
       "\n",
       "    .dataframe thead th {\n",
       "        text-align: right;\n",
       "    }\n",
       "</style>\n",
       "<table border=\"1\" class=\"dataframe\">\n",
       "  <thead>\n",
       "    <tr style=\"text-align: right;\">\n",
       "      <th></th>\n",
       "      <th>Body ID</th>\n",
       "      <th>articleBody</th>\n",
       "      <th>Headline</th>\n",
       "      <th>Stance</th>\n",
       "    </tr>\n",
       "  </thead>\n",
       "  <tbody>\n",
       "    <tr>\n",
       "      <th>0</th>\n",
       "      <td>0</td>\n",
       "      <td>A small meteorite crashed into a wooded area i...</td>\n",
       "      <td>Soldier shot near Canadian parliament building</td>\n",
       "      <td>unrelated</td>\n",
       "    </tr>\n",
       "    <tr>\n",
       "      <th>1</th>\n",
       "      <td>0</td>\n",
       "      <td>A small meteorite crashed into a wooded area i...</td>\n",
       "      <td>Caught a catfish record in Po: 127 kg and 2.67...</td>\n",
       "      <td>unrelated</td>\n",
       "    </tr>\n",
       "    <tr>\n",
       "      <th>2</th>\n",
       "      <td>0</td>\n",
       "      <td>A small meteorite crashed into a wooded area i...</td>\n",
       "      <td>Enormous 20-stone catfish caught with fishing ...</td>\n",
       "      <td>unrelated</td>\n",
       "    </tr>\n",
       "    <tr>\n",
       "      <th>3</th>\n",
       "      <td>0</td>\n",
       "      <td>A small meteorite crashed into a wooded area i...</td>\n",
       "      <td>Soldier shot at war memorial in Canada</td>\n",
       "      <td>unrelated</td>\n",
       "    </tr>\n",
       "    <tr>\n",
       "      <th>4</th>\n",
       "      <td>0</td>\n",
       "      <td>A small meteorite crashed into a wooded area i...</td>\n",
       "      <td>A soldier has been shot at Canada’s war memori...</td>\n",
       "      <td>unrelated</td>\n",
       "    </tr>\n",
       "    <tr>\n",
       "      <th>...</th>\n",
       "      <td>...</td>\n",
       "      <td>...</td>\n",
       "      <td>...</td>\n",
       "      <td>...</td>\n",
       "    </tr>\n",
       "    <tr>\n",
       "      <th>49967</th>\n",
       "      <td>2532</td>\n",
       "      <td>ANN ARBOR, Mich. – A pizza delivery man in Mic...</td>\n",
       "      <td>Ann Arbor pizza delivery driver surprised with...</td>\n",
       "      <td>agree</td>\n",
       "    </tr>\n",
       "    <tr>\n",
       "      <th>49968</th>\n",
       "      <td>2532</td>\n",
       "      <td>ANN ARBOR, Mich. – A pizza delivery man in Mic...</td>\n",
       "      <td>Luckiest Pizza Delivery Guy Ever Gets $2,000 Tip</td>\n",
       "      <td>agree</td>\n",
       "    </tr>\n",
       "    <tr>\n",
       "      <th>49969</th>\n",
       "      <td>2532</td>\n",
       "      <td>ANN ARBOR, Mich. – A pizza delivery man in Mic...</td>\n",
       "      <td>Pizza delivery man gets $2,000 tip</td>\n",
       "      <td>agree</td>\n",
       "    </tr>\n",
       "    <tr>\n",
       "      <th>49970</th>\n",
       "      <td>2532</td>\n",
       "      <td>ANN ARBOR, Mich. – A pizza delivery man in Mic...</td>\n",
       "      <td>Pizza delivery driver surprised with $2,000 tip</td>\n",
       "      <td>agree</td>\n",
       "    </tr>\n",
       "    <tr>\n",
       "      <th>49971</th>\n",
       "      <td>2532</td>\n",
       "      <td>ANN ARBOR, Mich. – A pizza delivery man in Mic...</td>\n",
       "      <td>Pizza delivery man gets tipped more than $2,00...</td>\n",
       "      <td>agree</td>\n",
       "    </tr>\n",
       "  </tbody>\n",
       "</table>\n",
       "<p>49972 rows × 4 columns</p>\n",
       "</div>"
      ],
      "text/plain": [
       "       Body ID                                        articleBody  \\\n",
       "0            0  A small meteorite crashed into a wooded area i...   \n",
       "1            0  A small meteorite crashed into a wooded area i...   \n",
       "2            0  A small meteorite crashed into a wooded area i...   \n",
       "3            0  A small meteorite crashed into a wooded area i...   \n",
       "4            0  A small meteorite crashed into a wooded area i...   \n",
       "...        ...                                                ...   \n",
       "49967     2532  ANN ARBOR, Mich. – A pizza delivery man in Mic...   \n",
       "49968     2532  ANN ARBOR, Mich. – A pizza delivery man in Mic...   \n",
       "49969     2532  ANN ARBOR, Mich. – A pizza delivery man in Mic...   \n",
       "49970     2532  ANN ARBOR, Mich. – A pizza delivery man in Mic...   \n",
       "49971     2532  ANN ARBOR, Mich. – A pizza delivery man in Mic...   \n",
       "\n",
       "                                                Headline     Stance  \n",
       "0         Soldier shot near Canadian parliament building  unrelated  \n",
       "1      Caught a catfish record in Po: 127 kg and 2.67...  unrelated  \n",
       "2      Enormous 20-stone catfish caught with fishing ...  unrelated  \n",
       "3                 Soldier shot at war memorial in Canada  unrelated  \n",
       "4      A soldier has been shot at Canada’s war memori...  unrelated  \n",
       "...                                                  ...        ...  \n",
       "49967  Ann Arbor pizza delivery driver surprised with...      agree  \n",
       "49968   Luckiest Pizza Delivery Guy Ever Gets $2,000 Tip      agree  \n",
       "49969                 Pizza delivery man gets $2,000 tip      agree  \n",
       "49970    Pizza delivery driver surprised with $2,000 tip      agree  \n",
       "49971  Pizza delivery man gets tipped more than $2,00...      agree  \n",
       "\n",
       "[49972 rows x 4 columns]"
      ]
     },
     "execution_count": 70,
     "metadata": {},
     "output_type": "execute_result"
    }
   ],
   "source": [
    "reindexed_df"
   ]
  },
  {
   "cell_type": "code",
   "execution_count": null,
   "id": "a0b66c85",
   "metadata": {},
   "outputs": [],
   "source": []
  },
  {
   "cell_type": "code",
   "execution_count": 71,
   "id": "e8aab149",
   "metadata": {},
   "outputs": [],
   "source": [
    "headline=reindexed_df['Headline']"
   ]
  },
  {
   "cell_type": "code",
   "execution_count": 72,
   "id": "33db7856",
   "metadata": {},
   "outputs": [],
   "source": [
    "articleBody=reindexed_df['articleBody']"
   ]
  },
  {
   "cell_type": "code",
   "execution_count": 73,
   "id": "cd4eb287",
   "metadata": {},
   "outputs": [],
   "source": [
    "stance=reindexed_df['Stance']"
   ]
  },
  {
   "cell_type": "code",
   "execution_count": 74,
   "id": "2c59274b",
   "metadata": {},
   "outputs": [
    {
     "data": {
      "text/plain": [
       "0           Soldier shot near Canadian parliament building\n",
       "1        Caught a catfish record in Po: 127 kg and 2.67...\n",
       "2        Enormous 20-stone catfish caught with fishing ...\n",
       "3                   Soldier shot at war memorial in Canada\n",
       "4        A soldier has been shot at Canada’s war memori...\n",
       "                               ...                        \n",
       "49967    Ann Arbor pizza delivery driver surprised with...\n",
       "49968     Luckiest Pizza Delivery Guy Ever Gets $2,000 Tip\n",
       "49969                   Pizza delivery man gets $2,000 tip\n",
       "49970      Pizza delivery driver surprised with $2,000 tip\n",
       "49971    Pizza delivery man gets tipped more than $2,00...\n",
       "Name: Headline, Length: 49972, dtype: object"
      ]
     },
     "execution_count": 74,
     "metadata": {},
     "output_type": "execute_result"
    }
   ],
   "source": [
    "headline"
   ]
  },
  {
   "cell_type": "code",
   "execution_count": 75,
   "id": "c0ee4c31",
   "metadata": {},
   "outputs": [],
   "source": [
    "max_features=1000000\n",
    "sequence_length=800"
   ]
  },
  {
   "cell_type": "code",
   "execution_count": null,
   "id": "857c9895",
   "metadata": {},
   "outputs": [],
   "source": []
  },
  {
   "cell_type": "code",
   "execution_count": 76,
   "id": "09c51e27",
   "metadata": {
    "scrolled": true
   },
   "outputs": [
    {
     "name": "stdout",
     "output_type": "stream",
     "text": [
      "Average number of words per article: 369.7017129592572\n"
     ]
    }
   ],
   "source": [
    "word_sum = 0\n",
    "article_count = 0\n",
    "\n",
    "for article in articleBody:\n",
    "    words = article.split()  # Split the article into words\n",
    "    word_count = len(words)\n",
    "    word_sum += word_count\n",
    "    article_count += 1\n",
    "\n",
    "average_words_per_article = word_sum / article_count\n",
    "\n",
    "print(\"Average number of words per article:\", average_words_per_article)\n"
   ]
  },
  {
   "cell_type": "code",
   "execution_count": 77,
   "id": "96abfaa1",
   "metadata": {},
   "outputs": [
    {
     "name": "stdout",
     "output_type": "stream",
     "text": [
      "Average number of words per article: 11.12647082366125\n"
     ]
    }
   ],
   "source": [
    "word_sum = 0\n",
    "article_count = 0\n",
    "\n",
    "for article in headline:\n",
    "    words = article.split()  # Split the article into words\n",
    "    word_count = len(words)\n",
    "    word_sum += word_count\n",
    "    article_count += 1\n",
    "\n",
    "average_words_per_article = word_sum / article_count\n",
    "\n",
    "print(\"Average number of words per article:\", average_words_per_article)"
   ]
  },
  {
   "cell_type": "code",
   "execution_count": 78,
   "id": "13ce9662",
   "metadata": {},
   "outputs": [
    {
     "name": "stdout",
     "output_type": "stream",
     "text": [
      "                                         articleBody  \\\n",
      "0  A small meteorite crashed into a wooded area i...   \n",
      "1  A small meteorite crashed into a wooded area i...   \n",
      "2  A small meteorite crashed into a wooded area i...   \n",
      "3  A small meteorite crashed into a wooded area i...   \n",
      "4  A small meteorite crashed into a wooded area i...   \n",
      "\n",
      "                                            headline  \n",
      "0  Soldier shot near Canadian parliament building...  \n",
      "1  Caught a catfish record in Po: 127 kg and 2.67...  \n",
      "2  Enormous 20-stone catfish caught with fishing ...  \n",
      "3  Soldier shot at war memorial in Canada        ...  \n",
      "4  A soldier has been shot at Canada’s war memori...  \n"
     ]
    }
   ],
   "source": [
    "# Function to truncate or pad a text to a specific number of words\n",
    "def truncate_or_pad(text, target_length):\n",
    "    words = text.split()[:target_length]  # Take the first 'target_length' words\n",
    "    if len(words) < target_length:\n",
    "        words.extend([''] * (target_length - len(words)))  # Pad with zeros if needed\n",
    "    return ' '.join(words)\n",
    "\n",
    "# Truncate or pad articleBody and headline\n",
    "merged_df = pd.DataFrame()\n",
    "merged_df['articleBody'] = reindexed_df['articleBody'].apply(lambda x: truncate_or_pad(x, 600))\n",
    "merged_df['headline'] = reindexed_df['Headline'].apply(lambda x: truncate_or_pad(x, 200))\n",
    "\n",
    "# Display the new DataFrame\n",
    "print(merged_df.head())\n"
   ]
  },
  {
   "cell_type": "code",
   "execution_count": 79,
   "id": "752f617b",
   "metadata": {},
   "outputs": [
    {
     "name": "stdout",
     "output_type": "stream",
     "text": [
      "                                         articleBody  \\\n",
      "0  A small meteorite crashed into a wooded area i...   \n",
      "1  A small meteorite crashed into a wooded area i...   \n",
      "2  A small meteorite crashed into a wooded area i...   \n",
      "3  A small meteorite crashed into a wooded area i...   \n",
      "4  A small meteorite crashed into a wooded area i...   \n",
      "\n",
      "                                            headline  \\\n",
      "0  Soldier shot near Canadian parliament building...   \n",
      "1  Caught a catfish record in Po: 127 kg and 2.67...   \n",
      "2  Enormous 20-stone catfish caught with fishing ...   \n",
      "3  Soldier shot at war memorial in Canada        ...   \n",
      "4  A soldier has been shot at Canada’s war memori...   \n",
      "\n",
      "                                         merged_text  \n",
      "0  A small meteorite crashed into a wooded area i...  \n",
      "1  A small meteorite crashed into a wooded area i...  \n",
      "2  A small meteorite crashed into a wooded area i...  \n",
      "3  A small meteorite crashed into a wooded area i...  \n",
      "4  A small meteorite crashed into a wooded area i...  \n"
     ]
    }
   ],
   "source": [
    "# Merge articleBody and headline into one string column\n",
    "merged_df['merged_text'] = merged_df['articleBody'] + ' ' + merged_df['headline']\n",
    "\n",
    "# Display the new DataFrame with the merged_text column\n",
    "print(merged_df.head())\n"
   ]
  },
  {
   "cell_type": "code",
   "execution_count": 80,
   "id": "0f78bc48",
   "metadata": {},
   "outputs": [],
   "source": [
    "def custom_standardization(input_data):\n",
    "  lowercase = tf.strings.lower(input_data)\n",
    "  stripped_html = tf.strings.regex_replace(lowercase, '<br />', ' ')\n",
    "  return tf.strings.regex_replace(stripped_html,\n",
    "                                  '[%s]' % re.escape(string.punctuation),\n",
    "                                  '')"
   ]
  },
  {
   "cell_type": "code",
   "execution_count": 81,
   "id": "fa062d68",
   "metadata": {},
   "outputs": [],
   "source": [
    "vectorize_layer=layers.TextVectorization(\n",
    "standardize=custom_standardization,\n",
    "max_tokens=max_features,\n",
    "output_mode='int',\n",
    "output_sequence_length=sequence_length)"
   ]
  },
  {
   "cell_type": "code",
   "execution_count": 82,
   "id": "7161b566",
   "metadata": {},
   "outputs": [],
   "source": [
    "embedding_dimension=10"
   ]
  },
  {
   "cell_type": "code",
   "execution_count": 83,
   "id": "987f3250",
   "metadata": {},
   "outputs": [],
   "source": [
    "from tensorflow.keras.layers import GlobalAveragePooling1D"
   ]
  },
  {
   "cell_type": "code",
   "execution_count": 84,
   "id": "6c06e477",
   "metadata": {},
   "outputs": [],
   "source": [
    "model=tf.keras.Sequential([\n",
    "    layers.Embedding(max_features,embedding_dimension),\n",
    "    layers.Dropout(0.2),\n",
    "    layers.GlobalAveragePooling1D(),\n",
    "    layers.Dropout(0.2),\n",
    "     layers.Dense(4, activation='softmax')\n",
    "])"
   ]
  },
  {
   "cell_type": "code",
   "execution_count": 85,
   "id": "83ffae3c",
   "metadata": {},
   "outputs": [
    {
     "name": "stdout",
     "output_type": "stream",
     "text": [
      "Model: \"sequential\"\n",
      "_________________________________________________________________\n",
      " Layer (type)                Output Shape              Param #   \n",
      "=================================================================\n",
      " embedding (Embedding)       (None, None, 10)          10000000  \n",
      "                                                                 \n",
      " dropout (Dropout)           (None, None, 10)          0         \n",
      "                                                                 \n",
      " global_average_pooling1d (  (None, 10)                0         \n",
      " GlobalAveragePooling1D)                                         \n",
      "                                                                 \n",
      " dropout_1 (Dropout)         (None, 10)                0         \n",
      "                                                                 \n",
      " dense (Dense)               (None, 4)                 44        \n",
      "                                                                 \n",
      "=================================================================\n",
      "Total params: 10000044 (38.15 MB)\n",
      "Trainable params: 10000044 (38.15 MB)\n",
      "Non-trainable params: 0 (0.00 Byte)\n",
      "_________________________________________________________________\n"
     ]
    }
   ],
   "source": [
    "model.summary()"
   ]
  },
  {
   "cell_type": "code",
   "execution_count": 95,
   "id": "5176f72d",
   "metadata": {},
   "outputs": [],
   "source": [
    "model.compile(\n",
    "#     run_eagerly=True,\n",
    "    loss=losses.CategoricalCrossentropy(),\n",
    "    optimizer='adam',\n",
    "    metrics=[tf.metrics.CategoricalAccuracy()]\n",
    ")\n"
   ]
  },
  {
   "cell_type": "code",
   "execution_count": 87,
   "id": "c1e9cea3",
   "metadata": {},
   "outputs": [
    {
     "name": "stdout",
     "output_type": "stream",
     "text": [
      "69.35685984151125\n"
     ]
    }
   ],
   "source": [
    "sum=0;\n",
    "count=0\n",
    "for i in headline:\n",
    "    count=count+1;\n",
    "    sum=sum+len(i)\n",
    "print(sum/count)"
   ]
  },
  {
   "cell_type": "code",
   "execution_count": 88,
   "id": "42d06957",
   "metadata": {},
   "outputs": [],
   "source": [
    "vectorize_layer.adapt(merged_df['merged_text'])"
   ]
  },
  {
   "cell_type": "code",
   "execution_count": 89,
   "id": "ae1175c0",
   "metadata": {},
   "outputs": [],
   "source": [
    "vectorized_data = vectorize_layer(merged_df['merged_text'])"
   ]
  },
  {
   "cell_type": "code",
   "execution_count": 90,
   "id": "0985762d",
   "metadata": {},
   "outputs": [],
   "source": [
    "# Replace categorical values with numeric values\n",
    "stance.replace({'agree': 0, 'disagree': 1, 'discuss': 2, 'unrelated': 3}, inplace=True)\n"
   ]
  },
  {
   "cell_type": "code",
   "execution_count": 91,
   "id": "3be21fb1",
   "metadata": {},
   "outputs": [
    {
     "data": {
      "text/plain": [
       "0    3\n",
       "1    3\n",
       "2    3\n",
       "3    3\n",
       "4    3\n",
       "Name: Stance, dtype: int64"
      ]
     },
     "execution_count": 91,
     "metadata": {},
     "output_type": "execute_result"
    }
   ],
   "source": [
    "stance.head()"
   ]
  },
  {
   "cell_type": "code",
   "execution_count": 92,
   "id": "2479c5dd",
   "metadata": {},
   "outputs": [],
   "source": [
    "for i in stance:\n",
    "    if i !=0 and i !=1 and i!=2 and i!=3:\n",
    "        print(i)\n"
   ]
  },
  {
   "cell_type": "code",
   "execution_count": 93,
   "id": "f29f4dfe",
   "metadata": {},
   "outputs": [],
   "source": [
    "import tensorflow as tf\n",
    "\n",
    "tf.keras.backend.clear_session()\n"
   ]
  },
  {
   "cell_type": "code",
   "execution_count": null,
   "id": "7194f67a",
   "metadata": {},
   "outputs": [],
   "source": []
  },
  {
   "cell_type": "code",
   "execution_count": 96,
   "id": "f778183c",
   "metadata": {},
   "outputs": [
    {
     "name": "stdout",
     "output_type": "stream",
     "text": [
      "Epoch 1/10\n",
      "1562/1562 [==============================] - 199s 127ms/step - loss: 0.8039 - categorical_accuracy: 0.7313\n",
      "Epoch 2/10\n",
      "1562/1562 [==============================] - 210s 134ms/step - loss: 0.7570 - categorical_accuracy: 0.7316\n",
      "Epoch 3/10\n",
      "1562/1562 [==============================] - 248s 159ms/step - loss: 0.7189 - categorical_accuracy: 0.7385\n",
      "Epoch 4/10\n",
      "1562/1562 [==============================] - 242s 155ms/step - loss: 0.6816 - categorical_accuracy: 0.7487\n",
      "Epoch 5/10\n",
      "1562/1562 [==============================] - 357s 229ms/step - loss: 0.6468 - categorical_accuracy: 0.7575\n",
      "Epoch 6/10\n",
      "1562/1562 [==============================] - 299s 192ms/step - loss: 0.6174 - categorical_accuracy: 0.7679\n",
      "Epoch 7/10\n",
      "1562/1562 [==============================] - 290s 186ms/step - loss: 0.5921 - categorical_accuracy: 0.7766\n",
      "Epoch 8/10\n",
      "1562/1562 [==============================] - 345s 221ms/step - loss: 0.5730 - categorical_accuracy: 0.7839\n",
      "Epoch 9/10\n",
      "1562/1562 [==============================] - 294s 188ms/step - loss: 0.5566 - categorical_accuracy: 0.7905\n",
      "Epoch 10/10\n",
      "1562/1562 [==============================] - 296s 189ms/step - loss: 0.5429 - categorical_accuracy: 0.7955\n"
     ]
    }
   ],
   "source": [
    "from tensorflow.keras.utils import to_categorical\n",
    "\n",
    "# Convert stance to one-hot encoded format\n",
    "stance_one_hot = to_categorical(stance, num_classes=4)\n",
    "\n",
    "# Train the model\n",
    "history = model.fit(\n",
    "    vectorized_data,\n",
    "    stance_one_hot,\n",
    "    epochs=10\n",
    ")\n"
   ]
  },
  {
   "cell_type": "code",
   "execution_count": null,
   "id": "951ed5e0",
   "metadata": {},
   "outputs": [],
   "source": []
  },
  {
   "cell_type": "code",
   "execution_count": null,
   "id": "79147ccd",
   "metadata": {},
   "outputs": [],
   "source": []
  },
  {
   "cell_type": "code",
   "execution_count": null,
   "id": "c0a56899",
   "metadata": {},
   "outputs": [],
   "source": [
    "vectorized_data.shape\n"
   ]
  },
  {
   "cell_type": "code",
   "execution_count": null,
   "id": "26c4b153",
   "metadata": {},
   "outputs": [],
   "source": [
    "# Check for empty or NaN values in input data\n",
    "print(\"Empty or NaN values in input data:\", np.any(np.isnan(vectorized_data)) or np.any(np.all(vectorized_data == 0)))\n",
    "\n",
    "# Check for empty or NaN values in target labels\n",
    "print(\"Empty or NaN values in target labels:\", np.any(np.isnan(stance_one_hot)) or np.any(np.all(stance_one_hot == 0)))\n"
   ]
  },
  {
   "cell_type": "code",
   "execution_count": 97,
   "id": "61e3f985",
   "metadata": {},
   "outputs": [
    {
     "name": "stdout",
     "output_type": "stream",
     "text": [
      "795/795 [==============================] - 3s 3ms/step - loss: 0.8446 - categorical_accuracy: 0.6975\n",
      "Test Loss: 0.8445846438407898\n",
      "Test Accuracy: 0.6975170373916626\n"
     ]
    }
   ],
   "source": [
    "# Load test data\n",
    "test_main_body = load_data_fn('C:\\\\Users\\\\tejas\\\\Documents\\\\SentimentAnalysis\\\\fnc_1_master', 'competition_test_bodies.csv')\n",
    "test_main_body_labels = load_data_fn('C:\\\\Users\\\\tejas\\\\Documents\\\\SentimentAnalysis\\\\fnc_1_master', 'competition_test_stances.csv')\n",
    "\n",
    "# Merge test data\n",
    "test_result = pd.merge(test_main_body, test_main_body_labels, on=\"Body ID\", how='right')\n",
    "test_sorted_df = test_result.sort_values(by='Body ID', ascending=True)\n",
    "test_reindexed_df = test_sorted_df.reset_index(drop=True)\n",
    "test_reindexed_df = test_reindexed_df.dropna()\n",
    "\n",
    "# Preprocess test data\n",
    "test_merged_df = pd.DataFrame()\n",
    "test_merged_df['articleBody'] = test_reindexed_df['articleBody'].apply(lambda x: truncate_or_pad(x, 600))\n",
    "test_merged_df['headline'] = test_reindexed_df['Headline'].apply(lambda x: truncate_or_pad(x, 200))\n",
    "test_merged_df['merged_text'] = test_merged_df['articleBody'] + ' ' + test_merged_df['headline']\n",
    "\n",
    "# Vectorize test data\n",
    "test_vectorized_data = vectorize_layer(test_merged_df['merged_text'])\n",
    "\n",
    "# Convert stance to numeric\n",
    "test_stance = test_reindexed_df['Stance'].replace({'agree': 0, 'disagree': 1, 'discuss': 2, 'unrelated': 3})\n",
    "\n",
    "# Evaluate model on test data\n",
    "test_stance_one_hot = to_categorical(test_stance, num_classes=4)\n",
    "test_loss, test_accuracy = model.evaluate(test_vectorized_data, test_stance_one_hot)\n",
    "print(\"Test Loss:\", test_loss)\n",
    "print(\"Test Accuracy:\", test_accuracy)\n"
   ]
  }
 ],
 "metadata": {
  "kernelspec": {
   "display_name": "Python 3 (ipykernel)",
   "language": "python",
   "name": "python3"
  },
  "language_info": {
   "codemirror_mode": {
    "name": "ipython",
    "version": 3
   },
   "file_extension": ".py",
   "mimetype": "text/x-python",
   "name": "python",
   "nbconvert_exporter": "python",
   "pygments_lexer": "ipython3",
   "version": "3.11.4"
  }
 },
 "nbformat": 4,
 "nbformat_minor": 5
}
